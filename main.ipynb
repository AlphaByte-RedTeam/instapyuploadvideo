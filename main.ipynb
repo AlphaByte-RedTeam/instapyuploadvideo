{
 "cells": [
  {
   "cell_type": "code",
   "execution_count": 6,
   "metadata": {},
   "outputs": [],
   "source": [
    "from instagrapi import Client\n",
    "import os"
   ]
  },
  {
   "attachments": {},
   "cell_type": "markdown",
   "metadata": {},
   "source": [
    "# Login your account"
   ]
  },
  {
   "cell_type": "code",
   "execution_count": 35,
   "metadata": {},
   "outputs": [
    {
     "data": {
      "text/plain": [
       "True"
      ]
     },
     "execution_count": 35,
     "metadata": {},
     "output_type": "execute_result"
    }
   ],
   "source": [
    "cl = Client()\n",
    "cl.login('IG_USERNAME', 'IG_PASSWORD') # Change the username & password"
   ]
  },
  {
   "attachments": {},
   "cell_type": "markdown",
   "metadata": {},
   "source": [
    "# Iterate over all the files in the folder"
   ]
  },
  {
   "cell_type": "code",
   "execution_count": 37,
   "metadata": {},
   "outputs": [
    {
     "name": "stdout",
     "output_type": "stream",
     "text": [
      "Video file: ./videos\\32180017_Mikael\\1.mp4\n",
      "Caption : ./videos\\32180017_Mikael\\1_caption.txt\n",
      "Video file: ./videos\\32200015-Andrew\\12.mp4\n",
      "Caption : ./videos\\32200015-Andrew\\12_caption.txt\n",
      "Video file: ./videos\\32200032_FranklinFredric\\2.mp4\n",
      "Caption : ./videos\\32200032_FranklinFredric\\2_caption.txt\n",
      "Video file: ./videos\\32200046_YonathanRahadiPutra\\3.mp4\n",
      "Caption : ./videos\\32200046_YonathanRahadiPutra\\3_caption.txt\n",
      "Video file: ./videos\\32200048_BillyWiraatmaja\\4.mp4\n",
      "Caption : ./videos\\32200048_BillyWiraatmaja\\4_caption.txt\n",
      "Video file: ./videos\\32200050_StevanHansQui\\5.mp4\n",
      "Caption : ./videos\\32200050_StevanHansQui\\5_caption.txt\n",
      "Video file: ./videos\\32200076_Vito_6PTI1\\6.mp4\n",
      "Caption : ./videos\\32200076_Vito_6PTI1\\6_caption.txt\n",
      "Video file: ./videos\\32200077_SergioBavoBaparuha\\7.mp4\n",
      "Caption : ./videos\\32200077_SergioBavoBaparuha\\7_caption.txt\n",
      "Video file: ./videos\\32200081_AndreasHidayat\\8.mp4\n",
      "Caption : ./videos\\32200081_AndreasHidayat\\8_caption.txt\n",
      "Video file: ./videos\\32200084_CalvinOwenSusanto\\9.mp4\n",
      "Caption : ./videos\\32200084_CalvinOwenSusanto\\9_caption.txt\n"
     ]
    }
   ],
   "source": [
    "parent_folder = \"./videos\"\n",
    "video_path = [] # list of video paths\n",
    "caption_path = [] # list of caption paths\n",
    "\n",
    "for student_folder in os.listdir(parent_folder):\n",
    "    student_folder_path = os.path.join(parent_folder, student_folder)\n",
    "    student_folder_path_trim = student_folder_path.replace(\" \", \"\")\n",
    "    if os.path.isdir(student_folder_path_trim):\n",
    "        for file_name in os.listdir(student_folder_path_trim):\n",
    "            file_path = os.path.join(student_folder_path_trim, file_name)\n",
    "            if file_name.endswith(\".mp4\"):\n",
    "                video_path.append(file_path)\n",
    "                print(\"Video file:\", file_path)\n",
    "            elif file_name.endswith(\".txt\"):\n",
    "                with open(file_path, \"r\") as caption_file:\n",
    "                    caption = caption_file.read()\n",
    "                    caption_path.append(file_path)\n",
    "                    print(\"Caption :\", file_path)"
   ]
  },
  {
   "attachments": {},
   "cell_type": "markdown",
   "metadata": {},
   "source": [
    "# Count all the files"
   ]
  },
  {
   "cell_type": "code",
   "execution_count": 38,
   "metadata": {},
   "outputs": [
    {
     "data": {
      "text/plain": [
       "12"
      ]
     },
     "execution_count": 38,
     "metadata": {},
     "output_type": "execute_result"
    }
   ],
   "source": [
    "file_list = os.listdir(parent_folder)\n",
    "num_files = len(file_list)\n",
    "num_files"
   ]
  },
  {
   "attachments": {},
   "cell_type": "markdown",
   "metadata": {},
   "source": [
    "# Upload the media"
   ]
  },
  {
   "cell_type": "code",
   "execution_count": null,
   "metadata": {},
   "outputs": [],
   "source": [
    "for videos, captions in zip(video_path, caption_path):\n",
    "    cl.video_upload(videos, caption)"
   ]
  }
 ],
 "metadata": {
  "kernelspec": {
   "display_name": "venv",
   "language": "python",
   "name": "python3"
  },
  "language_info": {
   "codemirror_mode": {
    "name": "ipython",
    "version": 3
   },
   "file_extension": ".py",
   "mimetype": "text/x-python",
   "name": "python",
   "nbconvert_exporter": "python",
   "pygments_lexer": "ipython3",
   "version": "3.11.2"
  },
  "orig_nbformat": 4
 },
 "nbformat": 4,
 "nbformat_minor": 2
}
