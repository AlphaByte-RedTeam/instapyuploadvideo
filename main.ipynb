{
 "cells": [
  {
   "cell_type": "code",
   "execution_count": null,
   "metadata": {},
   "outputs": [],
   "source": [
    "from instagrapi import Client\n",
    "import os"
   ]
  },
  {
   "attachments": {},
   "cell_type": "markdown",
   "metadata": {},
   "source": [
    "# Login your account"
   ]
  },
  {
   "cell_type": "code",
   "execution_count": null,
   "metadata": {},
   "outputs": [],
   "source": [
    "cl = Client()\n",
    "cl.login('IG_USERNAME', 'IG_PASSWORD') # Change the username & password"
   ]
  },
  {
   "attachments": {},
   "cell_type": "markdown",
   "metadata": {},
   "source": [
    "# Iterate over all the files in the folder"
   ]
  },
  {
   "cell_type": "code",
   "execution_count": null,
   "metadata": {},
   "outputs": [],
   "source": [
    "parent_folder = \"./videos\"\n",
    "video_path = [] # list of video paths\n",
    "caption_path = [] # list of caption paths\n",
    "\n",
    "for student_folder in os.listdir(parent_folder):\n",
    "    student_folder_path = os.path.join(parent_folder, student_folder)\n",
    "    student_folder_path_trim = student_folder_path.replace(\" \", \"\")\n",
    "    if os.path.isdir(student_folder_path_trim):\n",
    "        for file_name in os.listdir(student_folder_path_trim):\n",
    "            file_path = os.path.join(student_folder_path_trim, file_name)\n",
    "            if file_name.endswith(\".mp4\"):\n",
    "                video_path.append(file_path)\n",
    "                print(\"Video file:\", file_path)\n",
    "            elif file_name.endswith(\".txt\"):\n",
    "                with open(file_path, \"r\") as caption_file:\n",
    "                    caption = caption_file.read()\n",
    "                    caption_path.append(file_path)\n",
    "                    print(\"Caption :\", file_path)"
   ]
  },
  {
   "attachments": {},
   "cell_type": "markdown",
   "metadata": {},
   "source": [
    "# Count all the files"
   ]
  },
  {
   "cell_type": "code",
   "execution_count": null,
   "metadata": {},
   "outputs": [],
   "source": [
    "file_list = os.listdir(parent_folder)\n",
    "num_files = len(file_list)\n",
    "num_files"
   ]
  },
  {
   "attachments": {},
   "cell_type": "markdown",
   "metadata": {},
   "source": [
    "# Upload the media"
   ]
  },
  {
   "cell_type": "code",
   "execution_count": null,
   "metadata": {},
   "outputs": [],
   "source": [
    "for videos, captions in zip(video_path, caption_path):\n",
    "    cl.video_upload(videos, caption)"
   ]
  }
 ],
 "metadata": {
  "kernelspec": {
   "display_name": "venv",
   "language": "python",
   "name": "python3"
  },
  "language_info": {
   "codemirror_mode": {
    "name": "ipython",
    "version": 3
   },
   "file_extension": ".py",
   "mimetype": "text/x-python",
   "name": "python",
   "nbconvert_exporter": "python",
   "pygments_lexer": "ipython3",
   "version": "3.11.2"
  },
  "orig_nbformat": 4
 },
 "nbformat": 4,
 "nbformat_minor": 2
}
